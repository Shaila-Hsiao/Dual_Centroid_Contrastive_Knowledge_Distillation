{
 "cells": [
  {
   "cell_type": "code",
   "execution_count": 1,
   "id": "412a6bd1",
   "metadata": {},
   "outputs": [
    {
     "name": "stdout",
     "output_type": "stream",
     "text": [
      "Files already downloaded and verified\n"
     ]
    },
    {
     "name": "stderr",
     "output_type": "stream",
     "text": [
      "C:\\Users\\user\\AppData\\Local\\Temp\\ipykernel_16872\\1433855661.py:49: FutureWarning: You are using `torch.load` with `weights_only=False` (the current default value), which uses the default pickle module implicitly. It is possible to construct malicious pickle data which will execute arbitrary code during unpickling (See https://github.com/pytorch/pytorch/blob/main/SECURITY.md#untrusted-models for more details). In a future release, the default value for `weights_only` will be flipped to `True`. This limits the functions that could be executed during unpickling. Arbitrary objects will no longer be allowed to be loaded via this mode unless they are explicitly allowlisted by the user via `torch.serialization.add_safe_globals`. We recommend you start setting `weights_only=True` for any use case where you don't have full control of the loaded file. Please open an issue on GitHub for any issues related to this experimental feature.\n",
      "  checkpoint = torch.load(checkpoint_path, map_location=device)\n"
     ]
    },
    {
     "name": "stdout",
     "output_type": "stream",
     "text": [
      "[✔] Saved tsne_cifar10_DC-LCL_pretrained\\tsne_DC-LCL_perp_5.png\n",
      "[✔] Saved tsne_cifar10_DC-LCL_pretrained\\tsne_DC-LCL_perp_10.png\n",
      "[✔] Saved tsne_cifar10_DC-LCL_pretrained\\tsne_DC-LCL_perp_15.png\n",
      "[✔] Saved tsne_cifar10_DC-LCL_pretrained\\tsne_DC-LCL_perp_30.png\n",
      "[✔] Saved tsne_cifar10_DC-LCL_pretrained\\tsne_DC-LCL_perp_50.png\n",
      "[✔] Saved tsne_cifar10_DC-LCL_pretrained\\tsne_DC-LCL_perp_100.png\n",
      "[✔] Saved tsne_cifar10_DC-LCL_pretrained\\tsne_DC-LCL_perp_200.png\n"
     ]
    },
    {
     "data": {
      "text/plain": [
       "<Figure size 1200x1000 with 0 Axes>"
      ]
     },
     "metadata": {},
     "output_type": "display_data"
    },
    {
     "data": {
      "text/plain": [
       "<Figure size 1200x1000 with 0 Axes>"
      ]
     },
     "metadata": {},
     "output_type": "display_data"
    },
    {
     "data": {
      "text/plain": [
       "<Figure size 1200x1000 with 0 Axes>"
      ]
     },
     "metadata": {},
     "output_type": "display_data"
    },
    {
     "data": {
      "text/plain": [
       "<Figure size 1200x1000 with 0 Axes>"
      ]
     },
     "metadata": {},
     "output_type": "display_data"
    },
    {
     "data": {
      "text/plain": [
       "<Figure size 1200x1000 with 0 Axes>"
      ]
     },
     "metadata": {},
     "output_type": "display_data"
    },
    {
     "data": {
      "text/plain": [
       "<Figure size 1200x1000 with 0 Axes>"
      ]
     },
     "metadata": {},
     "output_type": "display_data"
    },
    {
     "data": {
      "text/plain": [
       "<Figure size 1200x1000 with 0 Axes>"
      ]
     },
     "metadata": {},
     "output_type": "display_data"
    }
   ],
   "source": [
    "import os\n",
    "import torch\n",
    "import numpy as np\n",
    "import matplotlib.pyplot as plt\n",
    "from sklearn.manifold import TSNE\n",
    "from torchvision import datasets, transforms,models\n",
    "from torch.utils.data import DataLoader\n",
    "\n",
    "import pcl.builder  # <-- 載入你的 DCBCL 架構\n",
    "\n",
    "\n",
    "def run_tsne(\n",
    "    checkpoint_path,\n",
    "    dataset_root,\n",
    "    output_dir=\"tsne_results\",\n",
    "    model_name=\"DC-LCL\",\n",
    "    batch_size=256,\n",
    "    perplexities=[5,10,15,30,50,100, 200],\n",
    "    max_iter=1000\n",
    "):\n",
    "    os.makedirs(output_dir, exist_ok=True)\n",
    "\n",
    "    # CIFAR10 驗證資料\n",
    "    transform = transforms.Compose([\n",
    "        transforms.Resize(32),\n",
    "        transforms.CenterCrop(32),\n",
    "        transforms.ToTensor(),\n",
    "        transforms.Normalize(mean=[0.485, 0.456, 0.406],\n",
    "                             std=[0.229, 0.224, 0.225])\n",
    "    ])\n",
    "    val_dataset = datasets.CIFAR10(root=dataset_root, train=False, download=True, transform=transform)\n",
    "    val_loader = DataLoader(val_dataset, batch_size=batch_size, shuffle=False, num_workers=4)\n",
    "    class_names = val_dataset.classes\n",
    "    num_classes = len(class_names)\n",
    "\n",
    "    # 初始化 DCBCL encoder\n",
    "    device = torch.device(\"cuda\" if torch.cuda.is_available() else \"cpu\")\n",
    "    model = pcl.builder.MoCo(\n",
    "        models.__dict__['resnet50'],  # or resnet18 if that’s what you used\n",
    "        dim=128,\n",
    "        r=4096,\n",
    "        m=0.999,\n",
    "        T=0.2,\n",
    "        mlp=True\n",
    "    )\n",
    "    model.to(device)\n",
    "\n",
    "    # 載入預訓練 checkpoint（DCBCL 預訓練權重）\n",
    "    checkpoint = torch.load(checkpoint_path, map_location=device)\n",
    "    model.load_state_dict(checkpoint['state_dict'], strict=False)\n",
    "    model.eval()\n",
    "\n",
    "    # 提取特徵\n",
    "    features, labels = [], []\n",
    "    with torch.no_grad():\n",
    "        for x, y in val_loader:\n",
    "            x = x.to(device)\n",
    "            feats = model.encoder_q(x)  # MoCo encoder 的前向方法\n",
    "            features.append(feats.cpu().numpy())\n",
    "            labels.append(y.numpy())\n",
    "\n",
    "    features = np.concatenate(features)\n",
    "    labels = np.concatenate(labels)\n",
    "\n",
    "    # 儲存特徵方便重複使用\n",
    "    np.savez(os.path.join(output_dir, f\"{model_name}_features.npz\"), features=features, labels=labels)\n",
    "\n",
    "    # 執行 t-SNE 並儲存圖像\n",
    "    for perp in perplexities:\n",
    "        tsne = TSNE(n_components=2, perplexity=perp, max_iter=max_iter, random_state=42)\n",
    "        tsne_result = tsne.fit_transform(features)\n",
    "\n",
    "        plt.figure(figsize=(16, 12))\n",
    "        plt.scatter(tsne_result[:, 0], tsne_result[:, 1], c=labels, cmap=\"tab10\", s=10)\n",
    "        for i in range(num_classes):\n",
    "            plt.scatter([], [], color=plt.cm.tab10(i / num_classes), label=class_names[i], s=100)\n",
    "        plt.tick_params(axis='both', which='major', labelsize=20)\n",
    "        plt.legend(\n",
    "            title=\"CIFAR-10\",\n",
    "            title_fontsize=18,\n",
    "            fontsize=16,\n",
    "            markerscale=2,\n",
    "            bbox_to_anchor=(1.05, 1),\n",
    "            loc=\"upper left\"\n",
    "        )\n",
    "\n",
    "        plt.title(f't-SNE of {model_name} Representations (Perplexity={perp}, n_iter={max_iter})', fontsize=25, fontweight='bold',pad=30)\n",
    "        plt.tight_layout()\n",
    "        \n",
    "        save_path = os.path.join(output_dir, f\"tsne_{model_name}_perp_{perp}.png\")\n",
    "        plt.savefig(save_path)\n",
    "        plt.close()\n",
    "        print(f\"[\\u2714] Saved {save_path}\")\n",
    "        plt.figure(figsize=(12, 10))\n",
    "        \n",
    "\n",
    "\n",
    "\n",
    "if __name__ == \"__main__\":\n",
    "    run_tsne(\n",
    "        checkpoint_path=r\"save\\dcbcl\\cifar10\\train\\20250409\\model_best.pth.tar\",\n",
    "        dataset_root=r\"D:\\Document\\Project\\Dataset\",\n",
    "        output_dir=\"tsne_cifar10_DC-LCL_pretrained\",\n",
    "        model_name=\"DC-LCL\"\n",
    "    )\n"
   ]
  }
 ],
 "metadata": {
  "kernelspec": {
   "display_name": "test",
   "language": "python",
   "name": "python3"
  },
  "language_info": {
   "codemirror_mode": {
    "name": "ipython",
    "version": 3
   },
   "file_extension": ".py",
   "mimetype": "text/x-python",
   "name": "python",
   "nbconvert_exporter": "python",
   "pygments_lexer": "ipython3",
   "version": "3.10.14"
  }
 },
 "nbformat": 4,
 "nbformat_minor": 5
}
